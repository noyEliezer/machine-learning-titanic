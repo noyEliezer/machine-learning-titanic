{
 "cells": [
  {
   "cell_type": "markdown",
   "id": "ec202ada",
   "metadata": {},
   "source": [
    "# Assignment2 - Supervised Learning flow"
   ]
  },
  {
   "cell_type": "markdown",
   "id": "b06a2810",
   "metadata": {},
   "source": [
    "# Part 1 - Student details:\n",
    "* Please write the First Name and last 4 digits of the i.d. for each student. For example:\n",
    "<pre>Israel 9812</pre>"
   ]
  },
  {
   "cell_type": "code",
   "execution_count": 1,
   "id": "ca16486b",
   "metadata": {},
   "outputs": [],
   "source": [
    "# student 1: Stav 0667\n",
    "# student 2: Noy 5807\n",
    "# student 3: Priel 1718\n"
   ]
  },
  {
   "cell_type": "markdown",
   "id": "df67c2ee-87c8-499c-a04f-1853c332f51d",
   "metadata": {},
   "source": [
    "## Part 2 - Initial Preparations \n",
    "You could add as many code cells as needed"
   ]
  },
  {
   "cell_type": "code",
   "execution_count": 2,
   "id": "b29b3454-b568-4614-8017-f15b3c59fc55",
   "metadata": {},
   "outputs": [],
   "source": [
    "import pandas as pd\n",
    "import numpy as np\n",
    "import scipy \n",
    "import seaborn as sns\n",
    "\n",
    "import matplotlib \n",
    "import matplotlib.pyplot as plt\n",
    "\n",
    "import sklearn\n",
    "from sklearn import tree\n",
    "from sklearn.tree import DecisionTreeClassifier\n",
    "from sklearn.model_selection import cross_val_score,cross_val_predict,GridSearchCV\n",
    "from sklearn.metrics import f1_score,confusion_matrix,precision_score, recall_score\n",
    "from sklearn.neighbors import KNeighborsClassifier\n",
    "from sklearn.model_selection import GridSearchCV\n",
    "from sklearn.preprocessing import MinMaxScaler"
   ]
  },
  {
   "cell_type": "code",
   "execution_count": 3,
   "id": "4b47fe56-d611-4b28-be92-673db4d56400",
   "metadata": {},
   "outputs": [
    {
     "data": {
      "text/html": [
       "<div>\n",
       "<style scoped>\n",
       "    .dataframe tbody tr th:only-of-type {\n",
       "        vertical-align: middle;\n",
       "    }\n",
       "\n",
       "    .dataframe tbody tr th {\n",
       "        vertical-align: top;\n",
       "    }\n",
       "\n",
       "    .dataframe thead th {\n",
       "        text-align: right;\n",
       "    }\n",
       "</style>\n",
       "<table border=\"1\" class=\"dataframe\">\n",
       "  <thead>\n",
       "    <tr style=\"text-align: right;\">\n",
       "      <th></th>\n",
       "      <th>Pclass</th>\n",
       "      <th>Sex</th>\n",
       "      <th>Age</th>\n",
       "      <th>SibSp</th>\n",
       "      <th>Parch</th>\n",
       "      <th>Fare</th>\n",
       "      <th>Embarked</th>\n",
       "      <th>Survived</th>\n",
       "    </tr>\n",
       "  </thead>\n",
       "  <tbody>\n",
       "    <tr>\n",
       "      <th>0</th>\n",
       "      <td>1</td>\n",
       "      <td>0</td>\n",
       "      <td>54.0</td>\n",
       "      <td>1</td>\n",
       "      <td>0</td>\n",
       "      <td>78.2667</td>\n",
       "      <td>1</td>\n",
       "      <td>1</td>\n",
       "    </tr>\n",
       "    <tr>\n",
       "      <th>1</th>\n",
       "      <td>2</td>\n",
       "      <td>0</td>\n",
       "      <td>45.0</td>\n",
       "      <td>0</td>\n",
       "      <td>0</td>\n",
       "      <td>13.5000</td>\n",
       "      <td>0</td>\n",
       "      <td>1</td>\n",
       "    </tr>\n",
       "    <tr>\n",
       "      <th>2</th>\n",
       "      <td>3</td>\n",
       "      <td>1</td>\n",
       "      <td>20.0</td>\n",
       "      <td>0</td>\n",
       "      <td>0</td>\n",
       "      <td>9.5000</td>\n",
       "      <td>0</td>\n",
       "      <td>0</td>\n",
       "    </tr>\n",
       "    <tr>\n",
       "      <th>3</th>\n",
       "      <td>3</td>\n",
       "      <td>1</td>\n",
       "      <td>36.0</td>\n",
       "      <td>0</td>\n",
       "      <td>0</td>\n",
       "      <td>7.8958</td>\n",
       "      <td>0</td>\n",
       "      <td>0</td>\n",
       "    </tr>\n",
       "    <tr>\n",
       "      <th>4</th>\n",
       "      <td>3</td>\n",
       "      <td>1</td>\n",
       "      <td>22.0</td>\n",
       "      <td>0</td>\n",
       "      <td>0</td>\n",
       "      <td>8.0500</td>\n",
       "      <td>0</td>\n",
       "      <td>0</td>\n",
       "    </tr>\n",
       "  </tbody>\n",
       "</table>\n",
       "</div>"
      ],
      "text/plain": [
       "   Pclass  Sex   Age  SibSp  Parch     Fare  Embarked  Survived\n",
       "0       1    0  54.0      1      0  78.2667         1         1\n",
       "1       2    0  45.0      0      0  13.5000         0         1\n",
       "2       3    1  20.0      0      0   9.5000         0         0\n",
       "3       3    1  36.0      0      0   7.8958         0         0\n",
       "4       3    1  22.0      0      0   8.0500         0         0"
      ]
     },
     "execution_count": 3,
     "metadata": {},
     "output_type": "execute_result"
    }
   ],
   "source": [
    "#import train file\n",
    "train_file='titanic_train.csv'\n",
    "df_train=pd.read_csv(train_file)\n",
    "\n",
    "X_train=df_train.drop(['Survived'],axis=1)\n",
    "y_train=df_train['Survived']\n",
    "\n",
    "df_train.head()"
   ]
  },
  {
   "cell_type": "code",
   "execution_count": 4,
   "id": "53e27610-b640-4db0-80c9-789b5f5fae58",
   "metadata": {},
   "outputs": [
    {
     "data": {
      "text/html": [
       "<div>\n",
       "<style scoped>\n",
       "    .dataframe tbody tr th:only-of-type {\n",
       "        vertical-align: middle;\n",
       "    }\n",
       "\n",
       "    .dataframe tbody tr th {\n",
       "        vertical-align: top;\n",
       "    }\n",
       "\n",
       "    .dataframe thead th {\n",
       "        text-align: right;\n",
       "    }\n",
       "</style>\n",
       "<table border=\"1\" class=\"dataframe\">\n",
       "  <thead>\n",
       "    <tr style=\"text-align: right;\">\n",
       "      <th></th>\n",
       "      <th>Pclass</th>\n",
       "      <th>Sex</th>\n",
       "      <th>Age</th>\n",
       "      <th>SibSp</th>\n",
       "      <th>Parch</th>\n",
       "      <th>Fare</th>\n",
       "      <th>Embarked</th>\n",
       "      <th>Survived</th>\n",
       "    </tr>\n",
       "  </thead>\n",
       "  <tbody>\n",
       "    <tr>\n",
       "      <th>0</th>\n",
       "      <td>3</td>\n",
       "      <td>1</td>\n",
       "      <td>35.000000</td>\n",
       "      <td>0</td>\n",
       "      <td>0</td>\n",
       "      <td>7.0500</td>\n",
       "      <td>0</td>\n",
       "      <td>0</td>\n",
       "    </tr>\n",
       "    <tr>\n",
       "      <th>1</th>\n",
       "      <td>3</td>\n",
       "      <td>1</td>\n",
       "      <td>30.000000</td>\n",
       "      <td>0</td>\n",
       "      <td>0</td>\n",
       "      <td>7.2500</td>\n",
       "      <td>0</td>\n",
       "      <td>0</td>\n",
       "    </tr>\n",
       "    <tr>\n",
       "      <th>2</th>\n",
       "      <td>3</td>\n",
       "      <td>1</td>\n",
       "      <td>29.699118</td>\n",
       "      <td>0</td>\n",
       "      <td>0</td>\n",
       "      <td>14.5000</td>\n",
       "      <td>0</td>\n",
       "      <td>0</td>\n",
       "    </tr>\n",
       "    <tr>\n",
       "      <th>3</th>\n",
       "      <td>3</td>\n",
       "      <td>0</td>\n",
       "      <td>21.000000</td>\n",
       "      <td>0</td>\n",
       "      <td>0</td>\n",
       "      <td>7.7500</td>\n",
       "      <td>2</td>\n",
       "      <td>0</td>\n",
       "    </tr>\n",
       "    <tr>\n",
       "      <th>4</th>\n",
       "      <td>3</td>\n",
       "      <td>1</td>\n",
       "      <td>32.000000</td>\n",
       "      <td>0</td>\n",
       "      <td>0</td>\n",
       "      <td>56.4958</td>\n",
       "      <td>0</td>\n",
       "      <td>1</td>\n",
       "    </tr>\n",
       "  </tbody>\n",
       "</table>\n",
       "</div>"
      ],
      "text/plain": [
       "   Pclass  Sex        Age  SibSp  Parch     Fare  Embarked  Survived\n",
       "0       3    1  35.000000      0      0   7.0500         0         0\n",
       "1       3    1  30.000000      0      0   7.2500         0         0\n",
       "2       3    1  29.699118      0      0  14.5000         0         0\n",
       "3       3    0  21.000000      0      0   7.7500         2         0\n",
       "4       3    1  32.000000      0      0  56.4958         0         1"
      ]
     },
     "execution_count": 4,
     "metadata": {},
     "output_type": "execute_result"
    }
   ],
   "source": [
    "#import test file\n",
    "test_file='titanic_test.csv'\n",
    "df_test=pd.read_csv(test_file)\n",
    "\n",
    "X_test=df_test.drop(['Survived'],axis=1)\n",
    "y_test=df_test['Survived']\n",
    "\n",
    "df_test.head()"
   ]
  },
  {
   "cell_type": "code",
   "execution_count": 5,
   "id": "8b62e451",
   "metadata": {},
   "outputs": [
    {
     "name": "stdout",
     "output_type": "stream",
     "text": [
      "\n",
      "Train set statistics:\n",
      "           Pclass         Sex         Age       SibSp       Parch        Fare  \\\n",
      "count  712.000000  712.000000  712.000000  712.000000  712.000000  712.000000   \n",
      "mean     2.294944    0.640449   29.531213    0.528090    0.384831   32.379429   \n",
      "std      0.841990    0.480206   13.188028    1.055052    0.803085   49.836074   \n",
      "min      1.000000    0.000000    0.670000    0.000000    0.000000    0.000000   \n",
      "25%      1.750000    0.000000   22.000000    0.000000    0.000000    7.925000   \n",
      "50%      3.000000    1.000000   29.699118    0.000000    0.000000   14.500000   \n",
      "75%      3.000000    1.000000   35.000000    1.000000    0.000000   31.275000   \n",
      "max      3.000000    1.000000   80.000000    8.000000    6.000000  512.329200   \n",
      "\n",
      "         Embarked    Survived  \n",
      "count  712.000000  712.000000  \n",
      "mean     0.372191    0.394663  \n",
      "std      0.649970    0.489122  \n",
      "min      0.000000    0.000000  \n",
      "25%      0.000000    0.000000  \n",
      "50%      0.000000    0.000000  \n",
      "75%      1.000000    1.000000  \n",
      "max      3.000000    1.000000  \n",
      "\n",
      "Test set statistics:\n",
      "           Pclass         Sex         Age       SibSp       Parch        Fare  \\\n",
      "count  179.000000  179.000000  179.000000  179.000000  179.000000  179.000000   \n",
      "mean     2.363128    0.675978   30.366983    0.502793    0.368715   31.507239   \n",
      "std      0.812116    0.469321   12.246691    1.278053    0.819923   49.254330   \n",
      "min      1.000000    0.000000    0.420000    0.000000    0.000000    0.000000   \n",
      "25%      2.000000    0.000000   24.000000    0.000000    0.000000    7.895800   \n",
      "50%      3.000000    1.000000   29.699118    0.000000    0.000000   12.000000   \n",
      "75%      3.000000    1.000000   36.000000    1.000000    0.000000   27.825000   \n",
      "max      3.000000    1.000000   71.000000    8.000000    5.000000  263.000000   \n",
      "\n",
      "         Embarked    Survived  \n",
      "count  179.000000  179.000000  \n",
      "mean     0.351955    0.340782  \n",
      "std      0.639640    0.475302  \n",
      "min      0.000000    0.000000  \n",
      "25%      0.000000    0.000000  \n",
      "50%      0.000000    0.000000  \n",
      "75%      1.000000    1.000000  \n",
      "max      3.000000    1.000000  \n"
     ]
    }
   ],
   "source": [
    "train_stats = df_train.describe(include='all')\n",
    "test_stats = df_test.describe(include='all')\n",
    "print(\"\\nTrain set statistics:\")\n",
    "print(train_stats)\n",
    "print(\"\\nTest set statistics:\")\n",
    "print(test_stats)"
   ]
  },
  {
   "cell_type": "code",
   "execution_count": 6,
   "id": "ba4ee45a",
   "metadata": {},
   "outputs": [
    {
     "data": {
      "image/png": "[encoded data removed]",
      "text/plain": [
       "<Figure size 1500x500 with 1 Axes>"
      ]
     },
     "metadata": {},
     "output_type": "display_data"
    }
   ],
   "source": [
    "# Plotting histogram of survivors and non-survivors by age\n",
    "plt.figure(figsize=(15,5))\n",
    "\n",
    "# Plot histogram for non-survivors\n",
    "df_train[df_train['Survived'] == 0]['Age'].hist(alpha=0.7, color='#ffb3ba', bins=20, label='Did not survive')\n",
    "\n",
    "# Plot histogram for survivors\n",
    "df_train[df_train['Survived'] == 1]['Age'].hist(alpha=0.7, color='#bae1ff', bins=20, label='Survived')\n",
    "\n",
    "plt.title('Survivors and Non-survivors by Age')\n",
    "plt.xlabel('Age')\n",
    "plt.ylabel('Count')\n",
    "plt.legend(loc='upper right')\n",
    "plt.show()   "
   ]
  },
  {
   "cell_type": "code",
   "execution_count": 7,
   "id": "2469f093",
   "metadata": {
    "scrolled": true
   },
   "outputs": [
    {
     "data": {
      "text/html": [
       "<div>\n",
       "<style scoped>\n",
       "    .dataframe tbody tr th:only-of-type {\n",
       "        vertical-align: middle;\n",
       "    }\n",
       "\n",
       "    .dataframe tbody tr th {\n",
       "        vertical-align: top;\n",
       "    }\n",
       "\n",
       "    .dataframe thead th {\n",
       "        text-align: right;\n",
       "    }\n",
       "</style>\n",
       "<table border=\"1\" class=\"dataframe\">\n",
       "  <thead>\n",
       "    <tr style=\"text-align: right;\">\n",
       "      <th></th>\n",
       "      <th>Not Survived</th>\n",
       "      <th>Survived</th>\n",
       "    </tr>\n",
       "    <tr>\n",
       "      <th>Pclass</th>\n",
       "      <th></th>\n",
       "      <th></th>\n",
       "    </tr>\n",
       "  </thead>\n",
       "  <tbody>\n",
       "    <tr>\n",
       "      <th>1</th>\n",
       "      <td>0.365169</td>\n",
       "      <td>0.634831</td>\n",
       "    </tr>\n",
       "    <tr>\n",
       "      <th>2</th>\n",
       "      <td>0.541096</td>\n",
       "      <td>0.458904</td>\n",
       "    </tr>\n",
       "    <tr>\n",
       "      <th>3</th>\n",
       "      <td>0.739691</td>\n",
       "      <td>0.260309</td>\n",
       "    </tr>\n",
       "  </tbody>\n",
       "</table>\n",
       "</div>"
      ],
      "text/plain": [
       "        Not Survived  Survived\n",
       "Pclass                        \n",
       "1           0.365169  0.634831\n",
       "2           0.541096  0.458904\n",
       "3           0.739691  0.260309"
      ]
     },
     "execution_count": 7,
     "metadata": {},
     "output_type": "execute_result"
    }
   ],
   "source": [
    "pclass_survived_crosstab = pd.crosstab(df_train['Pclass'], df_train['Survived'],normalize='index')\n",
    "pclass_survived_crosstab.columns = ['Not Survived', 'Survived']\n",
    "pclass_survived_crosstab"
   ]
  },
  {
   "cell_type": "code",
   "execution_count": 8,
   "id": "c67dd0cf",
   "metadata": {},
   "outputs": [
    {
     "data": {
      "image/png": "[encoded data removed]",
      "text/plain": [
       "<Figure size 1000x600 with 1 Axes>"
      ]
     },
     "metadata": {},
     "output_type": "display_data"
    }
   ],
   "source": [
    "# Convert the 'Survived' column to string type if it contains integer values\n",
    "df_train['Survived'] = df_train['Survived'].astype(str)\n",
    "plt.figure(figsize=(10, 6))\n",
    "sns.countplot(data=df_train, x='Sex', hue='Survived',palette=['#bae1ff','#ffb3ba'])\n",
    "plt.title('Survival Distribution by Sex')\n",
    "plt.xlabel('Sex')\n",
    "plt.ylabel('Count')\n",
    "plt.xticks(ticks=[0, 1], labels=['Male', 'Female'])\n",
    "plt.legend(title='Survived', loc='upper right', labels=['Not Survived', 'Survived'])\n",
    "plt.show()"
   ]
  },
  {
   "cell_type": "markdown",
   "id": "fb36672a",
   "metadata": {},
   "source": [
    "## Part 3 - Experiments\n",
    "You could add as many code cells as needed"
   ]
  },
  {
   "cell_type": "code",
   "execution_count": 9,
   "id": "ac32198e",
   "metadata": {},
   "outputs": [],
   "source": [
    "#Scaling"
   ]
  },
  {
   "cell_type": "code",
   "execution_count": 10,
   "id": "b7098585",
   "metadata": {},
   "outputs": [],
   "source": [
    "def MinMaxScaling(X_train,X_test):\n",
    "    scaler = MinMaxScaler()\n",
    "    X_train_scaled = scaler.fit_transform(X_train)\n",
    "    X_test_scaled = scaler.transform(X_test)\n",
    "    return X_train_scaled,X_test_scaled\n",
    "\n",
    "X_train_scaled,X_test_scaled = MinMaxScaling(X_train,X_test)"
   ]
  },
  {
   "cell_type": "code",
   "execution_count": 11,
   "id": "902282c1",
   "metadata": {},
   "outputs": [],
   "source": [
    "def ComplexFeatureEngineering(X_train, X_test):\n",
    "    X_cfe_train = X_train.copy()\n",
    "    X_cfe_test = X_test.copy()\n",
    "    \n",
    "    X_cfe_train['FamilySize'] = X_train['SibSp'] + X_train['Parch'] + 1\n",
    "    X_cfe_train = X_cfe_train.drop(['SibSp', 'Parch'], axis=1)\n",
    "    \n",
    "    X_cfe_test['FamilySize'] = X_test['SibSp'] + X_test['Parch'] + 1    \n",
    "    X_cfe_test = X_cfe_test.drop(['SibSp', 'Parch'], axis=1)\n",
    "    \n",
    "    return X_cfe_train, X_cfe_test\n",
    "\n",
    "X_cfe_train, X_cfe_test = ComplexFeatureEngineering(X_train, X_test)\n"
   ]
  },
  {
   "cell_type": "code",
   "execution_count": 12,
   "id": "7aa95c6f",
   "metadata": {},
   "outputs": [
    {
     "name": "stdout",
     "output_type": "stream",
     "text": [
      "     Pclass  Sex        Age      Fare  Embarked  FamilySize\n",
      "0         1    0  54.000000   78.2667         1           2\n",
      "1         2    0  45.000000   13.5000         0           1\n",
      "2         3    1  20.000000    9.5000         0           1\n",
      "3         3    1  36.000000    7.8958         0           1\n",
      "4         3    1  22.000000    8.0500         0           1\n",
      "..      ...  ...        ...       ...       ...         ...\n",
      "707       1    1  54.000000   51.8625         0           1\n",
      "708       3    1  14.000000   46.9000         0           8\n",
      "709       2    0   6.000000   33.0000         0           2\n",
      "710       2    1  29.699118    0.0000         0           1\n",
      "711       1    0  25.000000  151.5500         0           4\n",
      "\n",
      "[712 rows x 6 columns]\n"
     ]
    }
   ],
   "source": [
    "print(X_cfe_train)"
   ]
  },
  {
   "cell_type": "code",
   "execution_count": 13,
   "id": "9023dff0",
   "metadata": {},
   "outputs": [],
   "source": [
    "#KNN"
   ]
  },
  {
   "cell_type": "code",
   "execution_count": 14,
   "id": "766ebef7",
   "metadata": {},
   "outputs": [],
   "source": [
    "def grid_knn_no_scaling():\n",
    "    model=KNeighborsClassifier()\n",
    "    param_grid = {\n",
    "    'metric': ['euclidean','manhattan', 'chebyshev'],\n",
    "    'n_neighbors': [3, 4, 7, 9]}\n",
    "\n",
    "    grid_search = GridSearchCV(estimator=model, param_grid=param_grid, cv=5, scoring='f1')\n",
    "    grid_search.fit(X_train, y_train)\n",
    "    best_model = grid_search.best_estimator_\n",
    "    cv_results = grid_search.cv_results_\n",
    "    return grid_search.best_params_,grid_search.best_score_"
   ]
  },
  {
   "cell_type": "code",
   "execution_count": 15,
   "id": "2f24b9ea",
   "metadata": {},
   "outputs": [
    {
     "data": {
      "text/plain": [
       "({'metric': 'manhattan', 'n_neighbors': 7}, 0.644140534517893)"
      ]
     },
     "execution_count": 15,
     "metadata": {},
     "output_type": "execute_result"
    }
   ],
   "source": [
    "grid_knn_no_scaling()"
   ]
  },
  {
   "cell_type": "code",
   "execution_count": 16,
   "id": "6694698f",
   "metadata": {},
   "outputs": [],
   "source": [
    "def grid_knn_scaling():\n",
    "    model=KNeighborsClassifier()\n",
    "    param_grid = {\n",
    "    'metric': ['euclidean','manhattan', 'chebyshev'],\n",
    "    'n_neighbors': [3, 4, 7, 9]}\n",
    "\n",
    "    grid_search = GridSearchCV(estimator=model, param_grid=param_grid, cv=5, scoring='f1')\n",
    "    grid_search.fit(X_train_scaled, y_train)\n",
    "    best_model = grid_search.best_estimator_\n",
    "    cv_results = grid_search.cv_results_\n",
    "    return grid_search.best_params_,grid_search.best_score_"
   ]
  },
  {
   "cell_type": "code",
   "execution_count": 17,
   "id": "f4bd7607",
   "metadata": {},
   "outputs": [
    {
     "data": {
      "text/plain": [
       "({'metric': 'manhattan', 'n_neighbors': 3}, 0.7363487224503041)"
      ]
     },
     "execution_count": 17,
     "metadata": {},
     "output_type": "execute_result"
    }
   ],
   "source": [
    "grid_knn_scaling()"
   ]
  },
  {
   "cell_type": "code",
   "execution_count": 18,
   "id": "4d757b45",
   "metadata": {},
   "outputs": [],
   "source": [
    "#TREE"
   ]
  },
  {
   "cell_type": "code",
   "execution_count": 19,
   "id": "46ecc6ee",
   "metadata": {},
   "outputs": [],
   "source": [
    "def grid_tree():\n",
    "    param_grid = {\n",
    "    'criterion': ['gini', 'entropy'],\n",
    "    'max_depth': [3,4,7,9],\n",
    "    }\n",
    "    \n",
    "    grid_search = GridSearchCV(estimator=DecisionTreeClassifier(), param_grid=param_grid, cv=5, scoring='f1')\n",
    "    grid_search.fit(X_train, y_train)\n",
    "    best_model = grid_search.best_estimator_\n",
    "    cv_results = grid_search.cv_results_\n",
    "    return grid_search.best_params_,grid_search.best_score_"
   ]
  },
  {
   "cell_type": "code",
   "execution_count": 20,
   "id": "6d233b81",
   "metadata": {},
   "outputs": [
    {
     "data": {
      "text/plain": [
       "({'criterion': 'entropy', 'max_depth': 4}, 0.7508166157509389)"
      ]
     },
     "execution_count": 20,
     "metadata": {},
     "output_type": "execute_result"
    }
   ],
   "source": [
    "grid_tree()"
   ]
  },
  {
   "cell_type": "code",
   "execution_count": 21,
   "id": "b179da94",
   "metadata": {},
   "outputs": [],
   "source": [
    "def grid_tree_ComplexFE():\n",
    "    param_grid = {\n",
    "    'criterion': ['gini', 'entropy'],\n",
    "    'max_depth': [3,4,7,9],\n",
    "    }\n",
    "    \n",
    "    grid_search = GridSearchCV(estimator=DecisionTreeClassifier(), param_grid=param_grid, cv=5, scoring='f1')\n",
    "    grid_search.fit(X_cfe_train, y_train)\n",
    "    best_model = grid_search.best_estimator_\n",
    "    cv_results = grid_search.cv_results_\n",
    "    return grid_search.best_params_,grid_search.best_score_"
   ]
  },
  {
   "cell_type": "code",
   "execution_count": 22,
   "id": "92d7dd62",
   "metadata": {},
   "outputs": [
    {
     "data": {
      "text/plain": [
       "({'criterion': 'entropy', 'max_depth': 4}, 0.7460884665392638)"
      ]
     },
     "execution_count": 22,
     "metadata": {},
     "output_type": "execute_result"
    }
   ],
   "source": [
    "grid_tree_ComplexFE()"
   ]
  },
  {
   "cell_type": "code",
   "execution_count": 23,
   "id": "67dad712",
   "metadata": {},
   "outputs": [],
   "source": [
    "#F1"
   ]
  },
  {
   "cell_type": "code",
   "execution_count": 24,
   "id": "d345b017",
   "metadata": {},
   "outputs": [],
   "source": [
    "def f1_score_knn_no_scaling(k,dist_metric):\n",
    "    model = KNeighborsClassifier(n_neighbors=k,metric=dist_metric)\n",
    "    scores_valid = cross_val_score(model,X_train,y_train,cv=5)\n",
    "    y_pred = cross_val_predict(model, X_train, y_train, cv=5)\n",
    "    score_f1 = f1_score(y_train,y_pred , average='weighted')\n",
    "    return score_f1,scores_valid.mean()"
   ]
  },
  {
   "cell_type": "code",
   "execution_count": 25,
   "id": "b4b47eb5",
   "metadata": {},
   "outputs": [],
   "source": [
    "def f1_score_knn(k,dist_metric):\n",
    "    model = KNeighborsClassifier(n_neighbors=k,metric=dist_metric)\n",
    "    scores_valid = cross_val_score(model,X_train_scaled,y_train,cv=5)\n",
    "    y_pred = cross_val_predict(model, X_train_scaled, y_train, cv=5)\n",
    "    score_f1 = f1_score(y_train,y_pred , average='weighted')\n",
    "    print(score_f1,scores_valid.mean())\n",
    "    return score_f1,scores_valid.mean()"
   ]
  },
  {
   "cell_type": "code",
   "execution_count": 26,
   "id": "df318009",
   "metadata": {},
   "outputs": [],
   "source": [
    "def f1_score_tree_no_scaling(crit,Maxdepth):\n",
    "    model = DecisionTreeClassifier(criterion=crit,max_depth=Maxdepth)\n",
    "    scores_valid = cross_val_score(model,X_train,y_train,cv=5)\n",
    "    y_pred = cross_val_predict(model, X_train, y_train, cv=5)\n",
    "    score_f1 = f1_score(y_train,y_pred , average='weighted')\n",
    "    return score_f1,scores_valid.mean()"
   ]
  },
  {
   "cell_type": "code",
   "execution_count": 27,
   "id": "b2fe1325",
   "metadata": {},
   "outputs": [],
   "source": [
    "def f1_score_tree_ComplexFE(crit,Maxdepth):\n",
    "    model = DecisionTreeClassifier(criterion=crit,max_depth=Maxdepth)\n",
    "    scores_valid = cross_val_score(model,X_cfe_train,y_train,cv=5)\n",
    "    y_pred = cross_val_predict(model, X_cfe_train, y_train, cv=5)\n",
    "    score_f1 = f1_score(y_train,y_pred , average='weighted')\n",
    "    return score_f1,scores_valid.mean()"
   ]
  },
  {
   "cell_type": "code",
   "execution_count": 28,
   "id": "e2b92ffa",
   "metadata": {},
   "outputs": [],
   "source": [
    "#data before scaling"
   ]
  },
  {
   "cell_type": "code",
   "execution_count": 29,
   "id": "25f05898",
   "metadata": {},
   "outputs": [
    {
     "data": {
      "text/html": [
       "<style type=\"text/css\">\n",
       "</style>\n",
       "<table id=\"T_49121\">\n",
       "  <caption>No Scaling</caption>\n",
       "  <thead>\n",
       "    <tr>\n",
       "      <th class=\"blank level0\" >&nbsp;</th>\n",
       "      <th id=\"T_49121_level0_col0\" class=\"col_heading level0 col0\" >model</th>\n",
       "      <th id=\"T_49121_level0_col1\" class=\"col_heading level0 col1\" >Hyper_Parameter_1</th>\n",
       "      <th id=\"T_49121_level0_col2\" class=\"col_heading level0 col2\" >Hyper_Parameter_2</th>\n",
       "      <th id=\"T_49121_level0_col3\" class=\"col_heading level0 col3\" >f1_score</th>\n",
       "      <th id=\"T_49121_level0_col4\" class=\"col_heading level0 col4\" >Cross_Validation_Mean_Score</th>\n",
       "    </tr>\n",
       "  </thead>\n",
       "  <tbody>\n",
       "    <tr>\n",
       "      <th id=\"T_49121_level0_row0\" class=\"row_heading level0 row0\" >0</th>\n",
       "      <td id=\"T_49121_row0_col0\" class=\"data row0 col0\" >knn</td>\n",
       "      <td id=\"T_49121_row0_col1\" class=\"data row0 col1\" >3</td>\n",
       "      <td id=\"T_49121_row0_col2\" class=\"data row0 col2\" >euclidean</td>\n",
       "      <td id=\"T_49121_row0_col3\" class=\"data row0 col3\" >0.688492</td>\n",
       "      <td id=\"T_49121_row0_col4\" class=\"data row0 col4\" >0.692377</td>\n",
       "    </tr>\n",
       "    <tr>\n",
       "      <th id=\"T_49121_level0_row1\" class=\"row_heading level0 row1\" >1</th>\n",
       "      <td id=\"T_49121_row1_col0\" class=\"data row1 col0\" >knn</td>\n",
       "      <td id=\"T_49121_row1_col1\" class=\"data row1 col1\" >4</td>\n",
       "      <td id=\"T_49121_row1_col2\" class=\"data row1 col2\" >euclidean</td>\n",
       "      <td id=\"T_49121_row1_col3\" class=\"data row1 col3\" >0.660004</td>\n",
       "      <td id=\"T_49121_row1_col4\" class=\"data row1 col4\" >0.678361</td>\n",
       "    </tr>\n",
       "    <tr>\n",
       "      <th id=\"T_49121_level0_row2\" class=\"row_heading level0 row2\" >2</th>\n",
       "      <td id=\"T_49121_row2_col0\" class=\"data row2 col0\" >knn</td>\n",
       "      <td id=\"T_49121_row2_col1\" class=\"data row2 col1\" >7</td>\n",
       "      <td id=\"T_49121_row2_col2\" class=\"data row2 col2\" >euclidean</td>\n",
       "      <td id=\"T_49121_row2_col3\" class=\"data row2 col3\" >0.696745</td>\n",
       "      <td id=\"T_49121_row2_col4\" class=\"data row2 col4\" >0.700877</td>\n",
       "    </tr>\n",
       "    <tr>\n",
       "      <th id=\"T_49121_level0_row3\" class=\"row_heading level0 row3\" >3</th>\n",
       "      <td id=\"T_49121_row3_col0\" class=\"data row3 col0\" >knn</td>\n",
       "      <td id=\"T_49121_row3_col1\" class=\"data row3 col1\" >9</td>\n",
       "      <td id=\"T_49121_row3_col2\" class=\"data row3 col2\" >euclidean</td>\n",
       "      <td id=\"T_49121_row3_col3\" class=\"data row3 col3\" >0.687604</td>\n",
       "      <td id=\"T_49121_row3_col4\" class=\"data row3 col4\" >0.692426</td>\n",
       "    </tr>\n",
       "    <tr>\n",
       "      <th id=\"T_49121_level0_row4\" class=\"row_heading level0 row4\" >4</th>\n",
       "      <td id=\"T_49121_row4_col0\" class=\"data row4 col0\" >knn</td>\n",
       "      <td id=\"T_49121_row4_col1\" class=\"data row4 col1\" >3</td>\n",
       "      <td id=\"T_49121_row4_col2\" class=\"data row4 col2\" >manhattan</td>\n",
       "      <td id=\"T_49121_row4_col3\" class=\"data row4 col3\" >0.721832</td>\n",
       "      <td id=\"T_49121_row4_col4\" class=\"data row4 col4\" >0.724732</td>\n",
       "    </tr>\n",
       "    <tr>\n",
       "      <th id=\"T_49121_level0_row5\" class=\"row_heading level0 row5\" >5</th>\n",
       "      <td id=\"T_49121_row5_col0\" class=\"data row5 col0\" >knn</td>\n",
       "      <td id=\"T_49121_row5_col1\" class=\"data row5 col1\" >4</td>\n",
       "      <td id=\"T_49121_row5_col2\" class=\"data row5 col2\" >manhattan</td>\n",
       "      <td id=\"T_49121_row5_col3\" class=\"data row5 col3\" >0.686217</td>\n",
       "      <td id=\"T_49121_row5_col4\" class=\"data row5 col4\" >0.703684</td>\n",
       "    </tr>\n",
       "    <tr>\n",
       "      <th id=\"T_49121_level0_row6\" class=\"row_heading level0 row6\" >6</th>\n",
       "      <td id=\"T_49121_row6_col0\" class=\"data row6 col0\" >knn</td>\n",
       "      <td id=\"T_49121_row6_col1\" class=\"data row6 col1\" >7</td>\n",
       "      <td id=\"T_49121_row6_col2\" class=\"data row6 col2\" >manhattan</td>\n",
       "      <td id=\"T_49121_row6_col3\" class=\"data row6 col3\" >0.730348</td>\n",
       "      <td id=\"T_49121_row6_col4\" class=\"data row6 col4\" >0.733222</td>\n",
       "    </tr>\n",
       "    <tr>\n",
       "      <th id=\"T_49121_level0_row7\" class=\"row_heading level0 row7\" >7</th>\n",
       "      <td id=\"T_49121_row7_col0\" class=\"data row7 col0\" >knn</td>\n",
       "      <td id=\"T_49121_row7_col1\" class=\"data row7 col1\" >9</td>\n",
       "      <td id=\"T_49121_row7_col2\" class=\"data row7 col2\" >manhattan</td>\n",
       "      <td id=\"T_49121_row7_col3\" class=\"data row7 col3\" >0.719474</td>\n",
       "      <td id=\"T_49121_row7_col4\" class=\"data row7 col4\" >0.721984</td>\n",
       "    </tr>\n",
       "    <tr>\n",
       "      <th id=\"T_49121_level0_row8\" class=\"row_heading level0 row8\" >8</th>\n",
       "      <td id=\"T_49121_row8_col0\" class=\"data row8 col0\" >knn</td>\n",
       "      <td id=\"T_49121_row8_col1\" class=\"data row8 col1\" >3</td>\n",
       "      <td id=\"T_49121_row8_col2\" class=\"data row8 col2\" >chebyshev</td>\n",
       "      <td id=\"T_49121_row8_col3\" class=\"data row8 col3\" >0.681353</td>\n",
       "      <td id=\"T_49121_row8_col4\" class=\"data row8 col4\" >0.683965</td>\n",
       "    </tr>\n",
       "    <tr>\n",
       "      <th id=\"T_49121_level0_row9\" class=\"row_heading level0 row9\" >9</th>\n",
       "      <td id=\"T_49121_row9_col0\" class=\"data row9 col0\" >knn</td>\n",
       "      <td id=\"T_49121_row9_col1\" class=\"data row9 col1\" >4</td>\n",
       "      <td id=\"T_49121_row9_col2\" class=\"data row9 col2\" >chebyshev</td>\n",
       "      <td id=\"T_49121_row9_col3\" class=\"data row9 col3\" >0.662143</td>\n",
       "      <td id=\"T_49121_row9_col4\" class=\"data row9 col4\" >0.678332</td>\n",
       "    </tr>\n",
       "    <tr>\n",
       "      <th id=\"T_49121_level0_row10\" class=\"row_heading level0 row10\" >10</th>\n",
       "      <td id=\"T_49121_row10_col0\" class=\"data row10 col0\" >knn</td>\n",
       "      <td id=\"T_49121_row10_col1\" class=\"data row10 col1\" >7</td>\n",
       "      <td id=\"T_49121_row10_col2\" class=\"data row10 col2\" >chebyshev</td>\n",
       "      <td id=\"T_49121_row10_col3\" class=\"data row10 col3\" >0.691337</td>\n",
       "      <td id=\"T_49121_row10_col4\" class=\"data row10 col4\" >0.695253</td>\n",
       "    </tr>\n",
       "    <tr>\n",
       "      <th id=\"T_49121_level0_row11\" class=\"row_heading level0 row11\" >11</th>\n",
       "      <td id=\"T_49121_row11_col0\" class=\"data row11 col0\" >knn</td>\n",
       "      <td id=\"T_49121_row11_col1\" class=\"data row11 col1\" >9</td>\n",
       "      <td id=\"T_49121_row11_col2\" class=\"data row11 col2\" >chebyshev</td>\n",
       "      <td id=\"T_49121_row11_col3\" class=\"data row11 col3\" >0.667179</td>\n",
       "      <td id=\"T_49121_row11_col4\" class=\"data row11 col4\" >0.674155</td>\n",
       "    </tr>\n",
       "    <tr>\n",
       "      <th id=\"T_49121_level0_row12\" class=\"row_heading level0 row12\" >12</th>\n",
       "      <td id=\"T_49121_row12_col0\" class=\"data row12 col0\" >Dec Tree</td>\n",
       "      <td id=\"T_49121_row12_col1\" class=\"data row12 col1\" >3</td>\n",
       "      <td id=\"T_49121_row12_col2\" class=\"data row12 col2\" >entropy</td>\n",
       "      <td id=\"T_49121_row12_col3\" class=\"data row12 col3\" >0.799063</td>\n",
       "      <td id=\"T_49121_row12_col4\" class=\"data row12 col4\" >0.801940</td>\n",
       "    </tr>\n",
       "    <tr>\n",
       "      <th id=\"T_49121_level0_row13\" class=\"row_heading level0 row13\" >13</th>\n",
       "      <td id=\"T_49121_row13_col0\" class=\"data row13 col0\" >Dec Tree</td>\n",
       "      <td id=\"T_49121_row13_col1\" class=\"data row13 col1\" >4</td>\n",
       "      <td id=\"T_49121_row13_col2\" class=\"data row13 col2\" >entropy</td>\n",
       "      <td id=\"T_49121_row13_col3\" class=\"data row13 col3\" >0.811160</td>\n",
       "      <td id=\"T_49121_row13_col4\" class=\"data row13 col4\" >0.814577</td>\n",
       "    </tr>\n",
       "    <tr>\n",
       "      <th id=\"T_49121_level0_row14\" class=\"row_heading level0 row14\" >14</th>\n",
       "      <td id=\"T_49121_row14_col0\" class=\"data row14 col0\" >Dec Tree</td>\n",
       "      <td id=\"T_49121_row14_col1\" class=\"data row14 col1\" >7</td>\n",
       "      <td id=\"T_49121_row14_col2\" class=\"data row14 col2\" >entropy</td>\n",
       "      <td id=\"T_49121_row14_col3\" class=\"data row14 col3\" >0.793861</td>\n",
       "      <td id=\"T_49121_row14_col4\" class=\"data row14 col4\" >0.801960</td>\n",
       "    </tr>\n",
       "    <tr>\n",
       "      <th id=\"T_49121_level0_row15\" class=\"row_heading level0 row15\" >15</th>\n",
       "      <td id=\"T_49121_row15_col0\" class=\"data row15 col0\" >Dec Tree</td>\n",
       "      <td id=\"T_49121_row15_col1\" class=\"data row15 col1\" >9</td>\n",
       "      <td id=\"T_49121_row15_col2\" class=\"data row15 col2\" >entropy</td>\n",
       "      <td id=\"T_49121_row15_col3\" class=\"data row15 col3\" >0.791634</td>\n",
       "      <td id=\"T_49121_row15_col4\" class=\"data row15 col4\" >0.797735</td>\n",
       "    </tr>\n",
       "    <tr>\n",
       "      <th id=\"T_49121_level0_row16\" class=\"row_heading level0 row16\" >16</th>\n",
       "      <td id=\"T_49121_row16_col0\" class=\"data row16 col0\" >Dec Tree</td>\n",
       "      <td id=\"T_49121_row16_col1\" class=\"data row16 col1\" >3</td>\n",
       "      <td id=\"T_49121_row16_col2\" class=\"data row16 col2\" >gini</td>\n",
       "      <td id=\"T_49121_row16_col3\" class=\"data row16 col3\" >0.805307</td>\n",
       "      <td id=\"T_49121_row16_col4\" class=\"data row16 col4\" >0.808963</td>\n",
       "    </tr>\n",
       "    <tr>\n",
       "      <th id=\"T_49121_level0_row17\" class=\"row_heading level0 row17\" >17</th>\n",
       "      <td id=\"T_49121_row17_col0\" class=\"data row17 col0\" >Dec Tree</td>\n",
       "      <td id=\"T_49121_row17_col1\" class=\"data row17 col1\" >4</td>\n",
       "      <td id=\"T_49121_row17_col2\" class=\"data row17 col2\" >gini</td>\n",
       "      <td id=\"T_49121_row17_col3\" class=\"data row17 col3\" >0.807475</td>\n",
       "      <td id=\"T_49121_row17_col4\" class=\"data row17 col4\" >0.807554</td>\n",
       "    </tr>\n",
       "    <tr>\n",
       "      <th id=\"T_49121_level0_row18\" class=\"row_heading level0 row18\" >18</th>\n",
       "      <td id=\"T_49121_row18_col0\" class=\"data row18 col0\" >Dec Tree</td>\n",
       "      <td id=\"T_49121_row18_col1\" class=\"data row18 col1\" >7</td>\n",
       "      <td id=\"T_49121_row18_col2\" class=\"data row18 col2\" >gini</td>\n",
       "      <td id=\"T_49121_row18_col3\" class=\"data row18 col3\" >0.789955</td>\n",
       "      <td id=\"T_49121_row18_col4\" class=\"data row18 col4\" >0.787944</td>\n",
       "    </tr>\n",
       "    <tr>\n",
       "      <th id=\"T_49121_level0_row19\" class=\"row_heading level0 row19\" >19</th>\n",
       "      <td id=\"T_49121_row19_col0\" class=\"data row19 col0\" >Dec Tree</td>\n",
       "      <td id=\"T_49121_row19_col1\" class=\"data row19 col1\" >9</td>\n",
       "      <td id=\"T_49121_row19_col2\" class=\"data row19 col2\" >gini</td>\n",
       "      <td id=\"T_49121_row19_col3\" class=\"data row19 col3\" >0.788628</td>\n",
       "      <td id=\"T_49121_row19_col4\" class=\"data row19 col4\" >0.787885</td>\n",
       "    </tr>\n",
       "  </tbody>\n",
       "</table>\n"
      ],
      "text/plain": [
       "<pandas.io.formats.style.Styler at 0x1cf4b1b9690>"
      ]
     },
     "metadata": {},
     "output_type": "display_data"
    }
   ],
   "source": [
    "data = [{'model': 'knn', 'Hyper_Parameter_1': 3,'Hyper_Parameter_2': 'euclidean','f1_score': 0.0,'Cross_Validation_Mean_Score': 0.0},\n",
    "        {'model': 'knn', 'Hyper_Parameter_1': 4,'Hyper_Parameter_2': 'euclidean','f1_score': 0.0,'Cross_Validation_Mean_Score': 0.0},       \n",
    "        {'model': 'knn', 'Hyper_Parameter_1': 7,'Hyper_Parameter_2': 'euclidean','f1_score': 0.0,'Cross_Validation_Mean_Score': 0.0},\n",
    "        {'model': 'knn', 'Hyper_Parameter_1': 9,'Hyper_Parameter_2': 'euclidean','f1_score': 0.0,'Cross_Validation_Mean_Score': 0.0},\n",
    "        {'model': 'knn', 'Hyper_Parameter_1': 3,'Hyper_Parameter_2': 'manhattan','f1_score': 0.0,'Cross_Validation_Mean_Score': 0.0},           \n",
    "        {'model': 'knn', 'Hyper_Parameter_1': 4,'Hyper_Parameter_2': 'manhattan','f1_score': 0.0,'Cross_Validation_Mean_Score': 0.0},       \n",
    "        {'model': 'knn', 'Hyper_Parameter_1': 7,'Hyper_Parameter_2': 'manhattan','f1_score': 0.0,'Cross_Validation_Mean_Score': 0.0},\n",
    "        {'model': 'knn', 'Hyper_Parameter_1': 9,'Hyper_Parameter_2': 'manhattan','f1_score': 0.0,'Cross_Validation_Mean_Score': 0.0},\n",
    "        {'model': 'knn', 'Hyper_Parameter_1': 3,'Hyper_Parameter_2': 'chebyshev','f1_score': 0.0,'Cross_Validation_Mean_Score': 0.0},\n",
    "        {'model': 'knn', 'Hyper_Parameter_1': 4,'Hyper_Parameter_2': 'chebyshev','f1_score': 0.0,'Cross_Validation_Mean_Score': 0.0},\n",
    "        {'model': 'knn', 'Hyper_Parameter_1': 7,'Hyper_Parameter_2': 'chebyshev','f1_score': 0.0,'Cross_Validation_Mean_Score': 0.0},\n",
    "        {'model': 'knn', 'Hyper_Parameter_1': 9,'Hyper_Parameter_2': 'chebyshev','f1_score': 0.0,'Cross_Validation_Mean_Score': 0.0},\n",
    "        {'model': 'Dec Tree', 'Hyper_Parameter_1': 3,'Hyper_Parameter_2': 'entropy','f1_score': 0.0,'Cross_Validation_Mean_Score': 0.0},\n",
    "        {'model': 'Dec Tree', 'Hyper_Parameter_1': 4,'Hyper_Parameter_2': 'entropy','f1_score': 0.0,'Cross_Validation_Mean_Score': 0.0},\n",
    "        {'model': 'Dec Tree', 'Hyper_Parameter_1': 7,'Hyper_Parameter_2': 'entropy','f1_score': 0.0,'Cross_Validation_Mean_Score': 0.0},\n",
    "        {'model': 'Dec Tree', 'Hyper_Parameter_1': 9,'Hyper_Parameter_2': 'entropy','f1_score': 0.0,'Cross_Validation_Mean_Score': 0.0},\n",
    "        {'model': 'Dec Tree', 'Hyper_Parameter_1': 3,'Hyper_Parameter_2': 'gini','f1_score': 0.0,'Cross_Validation_Mean_Score': 0.0},\n",
    "        {'model': 'Dec Tree', 'Hyper_Parameter_1': 4,'Hyper_Parameter_2': 'gini','f1_score': 0.0,'Cross_Validation_Mean_Score': 0.0},\n",
    "        {'model': 'Dec Tree', 'Hyper_Parameter_1': 7,'Hyper_Parameter_2': 'gini','f1_score': 0.0,'Cross_Validation_Mean_Score': 0.0},\n",
    "        {'model': 'Dec Tree', 'Hyper_Parameter_1': 9,'Hyper_Parameter_2': 'gini','f1_score': 0.0,'Cross_Validation_Mean_Score': 0.0}\n",
    "        ]\n",
    "stat_scores_no_scaling = pd.DataFrame(data)\n",
    "for i in stat_scores_no_scaling.index:\n",
    "    model = stat_scores_no_scaling.loc[i, 'model']\n",
    "    param_1 = stat_scores_no_scaling.loc[i, 'Hyper_Parameter_1']\n",
    "    param_2 = stat_scores_no_scaling.loc[i, 'Hyper_Parameter_2']\n",
    "    if model == 'knn':\n",
    "        f1_s, score_val = f1_score_knn_no_scaling(param_1, param_2)\n",
    "    elif model == 'Dec Tree':\n",
    "        f1_s, score_val = f1_score_tree_no_scaling(param_2, param_1)\n",
    "    stat_scores_no_scaling.loc[i, 'f1_score'] = f1_s\n",
    "    stat_scores_no_scaling.loc[i, 'Cross_Validation_Mean_Score'] = score_val\n",
    "\n",
    "display(stat_scores_no_scaling.style.set_caption(\"No Scaling\"))"
   ]
  },
  {
   "cell_type": "code",
   "execution_count": 30,
   "id": "0b7cf9ab",
   "metadata": {},
   "outputs": [],
   "source": [
    "#data after scaling"
   ]
  },
  {
   "cell_type": "code",
   "execution_count": 31,
   "id": "0c71c3f0",
   "metadata": {},
   "outputs": [
    {
     "name": "stdout",
     "output_type": "stream",
     "text": [
      "0.7939630662401924 0.7949670048261599\n",
      "0.780443212218493 0.7865359992120555\n",
      "0.779112009003524 0.7823500443218754\n",
      "0.7740536796084084 0.7781443908204472\n",
      "0.7966322791896748 0.7977839062346105\n",
      "0.7859612790473175 0.7921402541120852\n",
      "0.7861344597878606 0.7893529006205062\n",
      "0.7771403002883565 0.7809415936176499\n",
      "0.7781876104629679 0.7795134443021767\n",
      "0.7743916184552806 0.7808923470895301\n",
      "0.7842780793670834 0.7865359992120555\n",
      "0.7784056490801244 0.7808923470895301\n"
     ]
    },
    {
     "data": {
      "text/html": [
       "<style type=\"text/css\">\n",
       "</style>\n",
       "<table id=\"T_417ba\">\n",
       "  <caption>post Scaling</caption>\n",
       "  <thead>\n",
       "    <tr>\n",
       "      <th class=\"blank level0\" >&nbsp;</th>\n",
       "      <th id=\"T_417ba_level0_col0\" class=\"col_heading level0 col0\" >model</th>\n",
       "      <th id=\"T_417ba_level0_col1\" class=\"col_heading level0 col1\" >Hyper_Parameter_1</th>\n",
       "      <th id=\"T_417ba_level0_col2\" class=\"col_heading level0 col2\" >Hyper_Parameter_2</th>\n",
       "      <th id=\"T_417ba_level0_col3\" class=\"col_heading level0 col3\" >f1_score</th>\n",
       "      <th id=\"T_417ba_level0_col4\" class=\"col_heading level0 col4\" >Cross_Validation_Mean_Score</th>\n",
       "    </tr>\n",
       "  </thead>\n",
       "  <tbody>\n",
       "    <tr>\n",
       "      <th id=\"T_417ba_level0_row0\" class=\"row_heading level0 row0\" >0</th>\n",
       "      <td id=\"T_417ba_row0_col0\" class=\"data row0 col0\" >knn</td>\n",
       "      <td id=\"T_417ba_row0_col1\" class=\"data row0 col1\" >3</td>\n",
       "      <td id=\"T_417ba_row0_col2\" class=\"data row0 col2\" >euclidean</td>\n",
       "      <td id=\"T_417ba_row0_col3\" class=\"data row0 col3\" >0.793963</td>\n",
       "      <td id=\"T_417ba_row0_col4\" class=\"data row0 col4\" >0.794967</td>\n",
       "    </tr>\n",
       "    <tr>\n",
       "      <th id=\"T_417ba_level0_row1\" class=\"row_heading level0 row1\" >1</th>\n",
       "      <td id=\"T_417ba_row1_col0\" class=\"data row1 col0\" >knn</td>\n",
       "      <td id=\"T_417ba_row1_col1\" class=\"data row1 col1\" >4</td>\n",
       "      <td id=\"T_417ba_row1_col2\" class=\"data row1 col2\" >euclidean</td>\n",
       "      <td id=\"T_417ba_row1_col3\" class=\"data row1 col3\" >0.780443</td>\n",
       "      <td id=\"T_417ba_row1_col4\" class=\"data row1 col4\" >0.786536</td>\n",
       "    </tr>\n",
       "    <tr>\n",
       "      <th id=\"T_417ba_level0_row2\" class=\"row_heading level0 row2\" >2</th>\n",
       "      <td id=\"T_417ba_row2_col0\" class=\"data row2 col0\" >knn</td>\n",
       "      <td id=\"T_417ba_row2_col1\" class=\"data row2 col1\" >7</td>\n",
       "      <td id=\"T_417ba_row2_col2\" class=\"data row2 col2\" >euclidean</td>\n",
       "      <td id=\"T_417ba_row2_col3\" class=\"data row2 col3\" >0.779112</td>\n",
       "      <td id=\"T_417ba_row2_col4\" class=\"data row2 col4\" >0.782350</td>\n",
       "    </tr>\n",
       "    <tr>\n",
       "      <th id=\"T_417ba_level0_row3\" class=\"row_heading level0 row3\" >3</th>\n",
       "      <td id=\"T_417ba_row3_col0\" class=\"data row3 col0\" >knn</td>\n",
       "      <td id=\"T_417ba_row3_col1\" class=\"data row3 col1\" >9</td>\n",
       "      <td id=\"T_417ba_row3_col2\" class=\"data row3 col2\" >euclidean</td>\n",
       "      <td id=\"T_417ba_row3_col3\" class=\"data row3 col3\" >0.774054</td>\n",
       "      <td id=\"T_417ba_row3_col4\" class=\"data row3 col4\" >0.778144</td>\n",
       "    </tr>\n",
       "    <tr>\n",
       "      <th id=\"T_417ba_level0_row4\" class=\"row_heading level0 row4\" >4</th>\n",
       "      <td id=\"T_417ba_row4_col0\" class=\"data row4 col0\" >knn</td>\n",
       "      <td id=\"T_417ba_row4_col1\" class=\"data row4 col1\" >3</td>\n",
       "      <td id=\"T_417ba_row4_col2\" class=\"data row4 col2\" >manhattan</td>\n",
       "      <td id=\"T_417ba_row4_col3\" class=\"data row4 col3\" >0.796632</td>\n",
       "      <td id=\"T_417ba_row4_col4\" class=\"data row4 col4\" >0.797784</td>\n",
       "    </tr>\n",
       "    <tr>\n",
       "      <th id=\"T_417ba_level0_row5\" class=\"row_heading level0 row5\" >5</th>\n",
       "      <td id=\"T_417ba_row5_col0\" class=\"data row5 col0\" >knn</td>\n",
       "      <td id=\"T_417ba_row5_col1\" class=\"data row5 col1\" >4</td>\n",
       "      <td id=\"T_417ba_row5_col2\" class=\"data row5 col2\" >manhattan</td>\n",
       "      <td id=\"T_417ba_row5_col3\" class=\"data row5 col3\" >0.785961</td>\n",
       "      <td id=\"T_417ba_row5_col4\" class=\"data row5 col4\" >0.792140</td>\n",
       "    </tr>\n",
       "    <tr>\n",
       "      <th id=\"T_417ba_level0_row6\" class=\"row_heading level0 row6\" >6</th>\n",
       "      <td id=\"T_417ba_row6_col0\" class=\"data row6 col0\" >knn</td>\n",
       "      <td id=\"T_417ba_row6_col1\" class=\"data row6 col1\" >7</td>\n",
       "      <td id=\"T_417ba_row6_col2\" class=\"data row6 col2\" >manhattan</td>\n",
       "      <td id=\"T_417ba_row6_col3\" class=\"data row6 col3\" >0.786134</td>\n",
       "      <td id=\"T_417ba_row6_col4\" class=\"data row6 col4\" >0.789353</td>\n",
       "    </tr>\n",
       "    <tr>\n",
       "      <th id=\"T_417ba_level0_row7\" class=\"row_heading level0 row7\" >7</th>\n",
       "      <td id=\"T_417ba_row7_col0\" class=\"data row7 col0\" >knn</td>\n",
       "      <td id=\"T_417ba_row7_col1\" class=\"data row7 col1\" >9</td>\n",
       "      <td id=\"T_417ba_row7_col2\" class=\"data row7 col2\" >manhattan</td>\n",
       "      <td id=\"T_417ba_row7_col3\" class=\"data row7 col3\" >0.777140</td>\n",
       "      <td id=\"T_417ba_row7_col4\" class=\"data row7 col4\" >0.780942</td>\n",
       "    </tr>\n",
       "    <tr>\n",
       "      <th id=\"T_417ba_level0_row8\" class=\"row_heading level0 row8\" >8</th>\n",
       "      <td id=\"T_417ba_row8_col0\" class=\"data row8 col0\" >knn</td>\n",
       "      <td id=\"T_417ba_row8_col1\" class=\"data row8 col1\" >3</td>\n",
       "      <td id=\"T_417ba_row8_col2\" class=\"data row8 col2\" >chebyshev</td>\n",
       "      <td id=\"T_417ba_row8_col3\" class=\"data row8 col3\" >0.778188</td>\n",
       "      <td id=\"T_417ba_row8_col4\" class=\"data row8 col4\" >0.779513</td>\n",
       "    </tr>\n",
       "    <tr>\n",
       "      <th id=\"T_417ba_level0_row9\" class=\"row_heading level0 row9\" >9</th>\n",
       "      <td id=\"T_417ba_row9_col0\" class=\"data row9 col0\" >knn</td>\n",
       "      <td id=\"T_417ba_row9_col1\" class=\"data row9 col1\" >4</td>\n",
       "      <td id=\"T_417ba_row9_col2\" class=\"data row9 col2\" >chebyshev</td>\n",
       "      <td id=\"T_417ba_row9_col3\" class=\"data row9 col3\" >0.774392</td>\n",
       "      <td id=\"T_417ba_row9_col4\" class=\"data row9 col4\" >0.780892</td>\n",
       "    </tr>\n",
       "    <tr>\n",
       "      <th id=\"T_417ba_level0_row10\" class=\"row_heading level0 row10\" >10</th>\n",
       "      <td id=\"T_417ba_row10_col0\" class=\"data row10 col0\" >knn</td>\n",
       "      <td id=\"T_417ba_row10_col1\" class=\"data row10 col1\" >7</td>\n",
       "      <td id=\"T_417ba_row10_col2\" class=\"data row10 col2\" >chebyshev</td>\n",
       "      <td id=\"T_417ba_row10_col3\" class=\"data row10 col3\" >0.784278</td>\n",
       "      <td id=\"T_417ba_row10_col4\" class=\"data row10 col4\" >0.786536</td>\n",
       "    </tr>\n",
       "    <tr>\n",
       "      <th id=\"T_417ba_level0_row11\" class=\"row_heading level0 row11\" >11</th>\n",
       "      <td id=\"T_417ba_row11_col0\" class=\"data row11 col0\" >knn</td>\n",
       "      <td id=\"T_417ba_row11_col1\" class=\"data row11 col1\" >9</td>\n",
       "      <td id=\"T_417ba_row11_col2\" class=\"data row11 col2\" >chebyshev</td>\n",
       "      <td id=\"T_417ba_row11_col3\" class=\"data row11 col3\" >0.778406</td>\n",
       "      <td id=\"T_417ba_row11_col4\" class=\"data row11 col4\" >0.780892</td>\n",
       "    </tr>\n",
       "  </tbody>\n",
       "</table>\n"
      ],
      "text/plain": [
       "<pandas.io.formats.style.Styler at 0x1cf4bb4e110>"
      ]
     },
     "metadata": {},
     "output_type": "display_data"
    }
   ],
   "source": [
    "data = [{'model': 'knn', 'Hyper_Parameter_1': 3,'Hyper_Parameter_2': 'euclidean','f1_score': 0.0,'Cross_Validation_Mean_Score': 0.0},\n",
    "        {'model': 'knn', 'Hyper_Parameter_1': 4,'Hyper_Parameter_2': 'euclidean','f1_score': 0.0,'Cross_Validation_Mean_Score': 0.0},       \n",
    "        {'model': 'knn', 'Hyper_Parameter_1': 7,'Hyper_Parameter_2': 'euclidean','f1_score': 0.0,'Cross_Validation_Mean_Score': 0.0},\n",
    "        {'model': 'knn', 'Hyper_Parameter_1': 9,'Hyper_Parameter_2': 'euclidean','f1_score': 0.0,'Cross_Validation_Mean_Score': 0.0},\n",
    "        {'model': 'knn', 'Hyper_Parameter_1': 3,'Hyper_Parameter_2': 'manhattan','f1_score': 0.0,'Cross_Validation_Mean_Score': 0.0},           \n",
    "        {'model': 'knn', 'Hyper_Parameter_1': 4,'Hyper_Parameter_2': 'manhattan','f1_score': 0.0,'Cross_Validation_Mean_Score': 0.0},       \n",
    "        {'model': 'knn', 'Hyper_Parameter_1': 7,'Hyper_Parameter_2': 'manhattan','f1_score': 0.0,'Cross_Validation_Mean_Score': 0.0},\n",
    "        {'model': 'knn', 'Hyper_Parameter_1': 9,'Hyper_Parameter_2': 'manhattan','f1_score': 0.0,'Cross_Validation_Mean_Score': 0.0},\n",
    "        {'model': 'knn', 'Hyper_Parameter_1': 3,'Hyper_Parameter_2': 'chebyshev','f1_score': 0.0,'Cross_Validation_Mean_Score': 0.0},\n",
    "        {'model': 'knn', 'Hyper_Parameter_1': 4,'Hyper_Parameter_2': 'chebyshev','f1_score': 0.0,'Cross_Validation_Mean_Score': 0.0},\n",
    "        {'model': 'knn', 'Hyper_Parameter_1': 7,'Hyper_Parameter_2': 'chebyshev','f1_score': 0.0,'Cross_Validation_Mean_Score': 0.0},\n",
    "        {'model': 'knn', 'Hyper_Parameter_1': 9,'Hyper_Parameter_2': 'chebyshev','f1_score': 0.0,'Cross_Validation_Mean_Score': 0.0},\n",
    "        ]\n",
    "stat_scores = pd.DataFrame(data)\n",
    "for i in stat_scores.index:\n",
    "    param_1 = stat_scores.loc[i, 'Hyper_Parameter_1']\n",
    "    param_2 = stat_scores.loc[i, 'Hyper_Parameter_2']\n",
    "    f1_s, score_val = f1_score_knn(param_1, param_2)   \n",
    "    stat_scores.loc[i, 'f1_score'] = f1_s\n",
    "    stat_scores.loc[i, 'Cross_Validation_Mean_Score'] = score_val\n",
    "display(stat_scores.style.set_caption(\"post Scaling\"))"
   ]
  },
  {
   "cell_type": "code",
   "execution_count": 32,
   "id": "42cbe8a5",
   "metadata": {},
   "outputs": [],
   "source": [
    "#data after complex feature engineering"
   ]
  },
  {
   "cell_type": "code",
   "execution_count": 33,
   "id": "5b19e2c7",
   "metadata": {},
   "outputs": [
    {
     "data": {
      "text/html": [
       "<style type=\"text/css\">\n",
       "</style>\n",
       "<table id=\"T_79e3a\">\n",
       "  <caption>After Feature Engineering</caption>\n",
       "  <thead>\n",
       "    <tr>\n",
       "      <th class=\"blank level0\" >&nbsp;</th>\n",
       "      <th id=\"T_79e3a_level0_col0\" class=\"col_heading level0 col0\" >model</th>\n",
       "      <th id=\"T_79e3a_level0_col1\" class=\"col_heading level0 col1\" >Hyper_Parameter_1</th>\n",
       "      <th id=\"T_79e3a_level0_col2\" class=\"col_heading level0 col2\" >Hyper_Parameter_2</th>\n",
       "      <th id=\"T_79e3a_level0_col3\" class=\"col_heading level0 col3\" >f1_score</th>\n",
       "      <th id=\"T_79e3a_level0_col4\" class=\"col_heading level0 col4\" >Cross_Validation_Mean_Score</th>\n",
       "    </tr>\n",
       "  </thead>\n",
       "  <tbody>\n",
       "    <tr>\n",
       "      <th id=\"T_79e3a_level0_row0\" class=\"row_heading level0 row0\" >0</th>\n",
       "      <td id=\"T_79e3a_row0_col0\" class=\"data row0 col0\" >Dec Tree</td>\n",
       "      <td id=\"T_79e3a_row0_col1\" class=\"data row0 col1\" >3</td>\n",
       "      <td id=\"T_79e3a_row0_col2\" class=\"data row0 col2\" >entropy</td>\n",
       "      <td id=\"T_79e3a_row0_col3\" class=\"data row0 col3\" >0.797541</td>\n",
       "      <td id=\"T_79e3a_row0_col4\" class=\"data row0 col4\" >0.801950</td>\n",
       "    </tr>\n",
       "    <tr>\n",
       "      <th id=\"T_79e3a_level0_row1\" class=\"row_heading level0 row1\" >1</th>\n",
       "      <td id=\"T_79e3a_row1_col0\" class=\"data row1 col0\" >Dec Tree</td>\n",
       "      <td id=\"T_79e3a_row1_col1\" class=\"data row1 col1\" >4</td>\n",
       "      <td id=\"T_79e3a_row1_col2\" class=\"data row1 col2\" >entropy</td>\n",
       "      <td id=\"T_79e3a_row1_col3\" class=\"data row1 col3\" >0.808150</td>\n",
       "      <td id=\"T_79e3a_row1_col4\" class=\"data row1 col4\" >0.811770</td>\n",
       "    </tr>\n",
       "    <tr>\n",
       "      <th id=\"T_79e3a_level0_row2\" class=\"row_heading level0 row2\" >2</th>\n",
       "      <td id=\"T_79e3a_row2_col0\" class=\"data row2 col0\" >Dec Tree</td>\n",
       "      <td id=\"T_79e3a_row2_col1\" class=\"data row2 col1\" >7</td>\n",
       "      <td id=\"T_79e3a_row2_col2\" class=\"data row2 col2\" >entropy</td>\n",
       "      <td id=\"T_79e3a_row2_col3\" class=\"data row2 col3\" >0.792099</td>\n",
       "      <td id=\"T_79e3a_row2_col4\" class=\"data row2 col4\" >0.797745</td>\n",
       "    </tr>\n",
       "    <tr>\n",
       "      <th id=\"T_79e3a_level0_row3\" class=\"row_heading level0 row3\" >3</th>\n",
       "      <td id=\"T_79e3a_row3_col0\" class=\"data row3 col0\" >Dec Tree</td>\n",
       "      <td id=\"T_79e3a_row3_col1\" class=\"data row3 col1\" >9</td>\n",
       "      <td id=\"T_79e3a_row3_col2\" class=\"data row3 col2\" >entropy</td>\n",
       "      <td id=\"T_79e3a_row3_col3\" class=\"data row3 col3\" >0.790656</td>\n",
       "      <td id=\"T_79e3a_row3_col4\" class=\"data row3 col4\" >0.794977</td>\n",
       "    </tr>\n",
       "    <tr>\n",
       "      <th id=\"T_79e3a_level0_row4\" class=\"row_heading level0 row4\" >4</th>\n",
       "      <td id=\"T_79e3a_row4_col0\" class=\"data row4 col0\" >Dec Tree</td>\n",
       "      <td id=\"T_79e3a_row4_col1\" class=\"data row4 col1\" >3</td>\n",
       "      <td id=\"T_79e3a_row4_col2\" class=\"data row4 col2\" >gini</td>\n",
       "      <td id=\"T_79e3a_row4_col3\" class=\"data row4 col3\" >0.806641</td>\n",
       "      <td id=\"T_79e3a_row4_col4\" class=\"data row4 col4\" >0.808973</td>\n",
       "    </tr>\n",
       "    <tr>\n",
       "      <th id=\"T_79e3a_level0_row5\" class=\"row_heading level0 row5\" >5</th>\n",
       "      <td id=\"T_79e3a_row5_col0\" class=\"data row5 col0\" >Dec Tree</td>\n",
       "      <td id=\"T_79e3a_row5_col1\" class=\"data row5 col1\" >4</td>\n",
       "      <td id=\"T_79e3a_row5_col2\" class=\"data row5 col2\" >gini</td>\n",
       "      <td id=\"T_79e3a_row5_col3\" class=\"data row5 col3\" >0.805979</td>\n",
       "      <td id=\"T_79e3a_row5_col4\" class=\"data row5 col4\" >0.807564</td>\n",
       "    </tr>\n",
       "    <tr>\n",
       "      <th id=\"T_79e3a_level0_row6\" class=\"row_heading level0 row6\" >6</th>\n",
       "      <td id=\"T_79e3a_row6_col0\" class=\"data row6 col0\" >Dec Tree</td>\n",
       "      <td id=\"T_79e3a_row6_col1\" class=\"data row6 col1\" >7</td>\n",
       "      <td id=\"T_79e3a_row6_col2\" class=\"data row6 col2\" >gini</td>\n",
       "      <td id=\"T_79e3a_row6_col3\" class=\"data row6 col3\" >0.780304</td>\n",
       "      <td id=\"T_79e3a_row6_col4\" class=\"data row6 col4\" >0.783729</td>\n",
       "    </tr>\n",
       "    <tr>\n",
       "      <th id=\"T_79e3a_level0_row7\" class=\"row_heading level0 row7\" >7</th>\n",
       "      <td id=\"T_79e3a_row7_col0\" class=\"data row7 col0\" >Dec Tree</td>\n",
       "      <td id=\"T_79e3a_row7_col1\" class=\"data row7 col1\" >9</td>\n",
       "      <td id=\"T_79e3a_row7_col2\" class=\"data row7 col2\" >gini</td>\n",
       "      <td id=\"T_79e3a_row7_col3\" class=\"data row7 col3\" >0.788808</td>\n",
       "      <td id=\"T_79e3a_row7_col4\" class=\"data row7 col4\" >0.792101</td>\n",
       "    </tr>\n",
       "  </tbody>\n",
       "</table>\n"
      ],
      "text/plain": [
       "<pandas.io.formats.style.Styler at 0x1cf4b9bec10>"
      ]
     },
     "metadata": {},
     "output_type": "display_data"
    }
   ],
   "source": [
    "data = [{'model': 'Dec Tree', 'Hyper_Parameter_1': 3,'Hyper_Parameter_2': 'entropy','f1_score': 0.0,'Cross_Validation_Mean_Score': 0.0},\n",
    "        {'model': 'Dec Tree', 'Hyper_Parameter_1': 4,'Hyper_Parameter_2': 'entropy','f1_score': 0.0,'Cross_Validation_Mean_Score': 0.0},\n",
    "        {'model': 'Dec Tree', 'Hyper_Parameter_1': 7,'Hyper_Parameter_2': 'entropy','f1_score': 0.0,'Cross_Validation_Mean_Score': 0.0},\n",
    "        {'model': 'Dec Tree', 'Hyper_Parameter_1': 9,'Hyper_Parameter_2': 'entropy','f1_score': 0.0,'Cross_Validation_Mean_Score': 0.0},\n",
    "        {'model': 'Dec Tree', 'Hyper_Parameter_1': 3,'Hyper_Parameter_2': 'gini','f1_score': 0.0,'Cross_Validation_Mean_Score': 0.0},\n",
    "        {'model': 'Dec Tree', 'Hyper_Parameter_1': 4,'Hyper_Parameter_2': 'gini','f1_score': 0.0,'Cross_Validation_Mean_Score': 0.0},\n",
    "        {'model': 'Dec Tree', 'Hyper_Parameter_1': 7,'Hyper_Parameter_2': 'gini','f1_score': 0.0,'Cross_Validation_Mean_Score': 0.0},\n",
    "        {'model': 'Dec Tree', 'Hyper_Parameter_1': 9,'Hyper_Parameter_2': 'gini','f1_score': 0.0,'Cross_Validation_Mean_Score': 0.0}\n",
    "        ]\n",
    "stat_scores_cfe = pd.DataFrame(data)\n",
    "for i in stat_scores_cfe.index:\n",
    "    model = stat_scores_cfe.loc[i, 'model']\n",
    "    param_1 = stat_scores_cfe.loc[i, 'Hyper_Parameter_1']\n",
    "    param_2 = stat_scores_cfe.loc[i, 'Hyper_Parameter_2']\n",
    "    f1_s, score_val = f1_score_tree_ComplexFE(param_2, param_1)\n",
    "    stat_scores_cfe.loc[i, 'f1_score'] = f1_s\n",
    "    stat_scores_cfe.loc[i, 'Cross_Validation_Mean_Score'] = score_val\n",
    "\n",
    "display(stat_scores_cfe.style.set_caption(\"After Feature Engineering\"))"
   ]
  },
  {
   "cell_type": "markdown",
   "id": "67d97f11",
   "metadata": {},
   "source": [
    "## Part 4 - Training \n",
    "Use the best combination of feature engineering, model (algorithm and hyperparameters) from the experiment part (part 3)"
   ]
  },
  {
   "cell_type": "code",
   "execution_count": 34,
   "id": "93713ead",
   "metadata": {},
   "outputs": [
    {
     "data": {
      "text/html": [
       "<style>#sk-container-id-1 {color: black;background-color: white;}#sk-container-id-1 pre{padding: 0;}#sk-container-id-1 div.sk-toggleable {background-color: white;}#sk-container-id-1 label.sk-toggleable__label {cursor: pointer;display: block;width: 100%;margin-bottom: 0;padding: 0.3em;box-sizing: border-box;text-align: center;}#sk-container-id-1 label.sk-toggleable__label-arrow:before {content: \"▸\";float: left;margin-right: 0.25em;color: #696969;}#sk-container-id-1 label.sk-toggleable__label-arrow:hover:before {color: black;}#sk-container-id-1 div.sk-estimator:hover label.sk-toggleable__label-arrow:before {color: black;}#sk-container-id-1 div.sk-toggleable__content {max-height: 0;max-width: 0;overflow: hidden;text-align: left;background-color: #f0f8ff;}#sk-container-id-1 div.sk-toggleable__content pre {margin: 0.2em;color: black;border-radius: 0.25em;background-color: #f0f8ff;}#sk-container-id-1 input.sk-toggleable__control:checked~div.sk-toggleable__content {max-height: 200px;max-width: 100%;overflow: auto;}#sk-container-id-1 input.sk-toggleable__control:checked~label.sk-toggleable__label-arrow:before {content: \"▾\";}#sk-container-id-1 div.sk-estimator input.sk-toggleable__control:checked~label.sk-toggleable__label {background-color: #d4ebff;}#sk-container-id-1 div.sk-label input.sk-toggleable__control:checked~label.sk-toggleable__label {background-color: #d4ebff;}#sk-container-id-1 input.sk-hidden--visually {border: 0;clip: rect(1px 1px 1px 1px);clip: rect(1px, 1px, 1px, 1px);height: 1px;margin: -1px;overflow: hidden;padding: 0;position: absolute;width: 1px;}#sk-container-id-1 div.sk-estimator {font-family: monospace;background-color: #f0f8ff;border: 1px dotted black;border-radius: 0.25em;box-sizing: border-box;margin-bottom: 0.5em;}#sk-container-id-1 div.sk-estimator:hover {background-color: #d4ebff;}#sk-container-id-1 div.sk-parallel-item::after {content: \"\";width: 100%;border-bottom: 1px solid gray;flex-grow: 1;}#sk-container-id-1 div.sk-label:hover label.sk-toggleable__label {background-color: #d4ebff;}#sk-container-id-1 div.sk-serial::before {content: \"\";position: absolute;border-left: 1px solid gray;box-sizing: border-box;top: 0;bottom: 0;left: 50%;z-index: 0;}#sk-container-id-1 div.sk-serial {display: flex;flex-direction: column;align-items: center;background-color: white;padding-right: 0.2em;padding-left: 0.2em;position: relative;}#sk-container-id-1 div.sk-item {position: relative;z-index: 1;}#sk-container-id-1 div.sk-parallel {display: flex;align-items: stretch;justify-content: center;background-color: white;position: relative;}#sk-container-id-1 div.sk-item::before, #sk-container-id-1 div.sk-parallel-item::before {content: \"\";position: absolute;border-left: 1px solid gray;box-sizing: border-box;top: 0;bottom: 0;left: 50%;z-index: -1;}#sk-container-id-1 div.sk-parallel-item {display: flex;flex-direction: column;z-index: 1;position: relative;background-color: white;}#sk-container-id-1 div.sk-parallel-item:first-child::after {align-self: flex-end;width: 50%;}#sk-container-id-1 div.sk-parallel-item:last-child::after {align-self: flex-start;width: 50%;}#sk-container-id-1 div.sk-parallel-item:only-child::after {width: 0;}#sk-container-id-1 div.sk-dashed-wrapped {border: 1px dashed gray;margin: 0 0.4em 0.5em 0.4em;box-sizing: border-box;padding-bottom: 0.4em;background-color: white;}#sk-container-id-1 div.sk-label label {font-family: monospace;font-weight: bold;display: inline-block;line-height: 1.2em;}#sk-container-id-1 div.sk-label-container {text-align: center;}#sk-container-id-1 div.sk-container {/* jupyter's `normalize.less` sets `[hidden] { display: none; }` but bootstrap.min.css set `[hidden] { display: none !important; }` so we also need the `!important` here to be able to override the default hidden behavior on the sphinx rendered scikit-learn.org. See: https://github.com/scikit-learn/scikit-learn/issues/21755 */display: inline-block !important;position: relative;}#sk-container-id-1 div.sk-text-repr-fallback {display: none;}</style><div id=\"sk-container-id-1\" class=\"sk-top-container\"><div class=\"sk-text-repr-fallback\"><pre>DecisionTreeClassifier(class_weight=&#x27;balanced&#x27;, criterion=&#x27;entropy&#x27;,\n",
       "                       max_depth=4)</pre><b>In a Jupyter environment, please rerun this cell to show the HTML representation or trust the notebook. <br />On GitHub, the HTML representation is unable to render, please try loading this page with nbviewer.org.</b></div><div class=\"sk-container\" hidden><div class=\"sk-item\"><div class=\"sk-estimator sk-toggleable\"><input class=\"sk-toggleable__control sk-hidden--visually\" id=\"sk-estimator-id-1\" type=\"checkbox\" checked><label for=\"sk-estimator-id-1\" class=\"sk-toggleable__label sk-toggleable__label-arrow\">DecisionTreeClassifier</label><div class=\"sk-toggleable__content\"><pre>DecisionTreeClassifier(class_weight=&#x27;balanced&#x27;, criterion=&#x27;entropy&#x27;,\n",
       "                       max_depth=4)</pre></div></div></div></div></div>"
      ],
      "text/plain": [
       "DecisionTreeClassifier(class_weight='balanced', criterion='entropy',\n",
       "                       max_depth=4)"
      ]
     },
     "execution_count": 34,
     "metadata": {},
     "output_type": "execute_result"
    }
   ],
   "source": [
    "clf = DecisionTreeClassifier(criterion='entropy',max_depth=4,class_weight='balanced')\n",
    "clf.fit(X_train, y_train)\n"
   ]
  },
  {
   "cell_type": "markdown",
   "id": "259ab902",
   "metadata": {},
   "source": [
    "## Part 5 - Apply on test and show model performance estimation"
   ]
  },
  {
   "cell_type": "code",
   "execution_count": 35,
   "id": "d9971aa5",
   "metadata": {},
   "outputs": [
    {
     "name": "stdout",
     "output_type": "stream",
     "text": [
      "f1: 0.8467438533991849\n"
     ]
    }
   ],
   "source": [
    "y_pred = clf.predict(X_test)\n",
    "f1 = f1_score(y_test, y_pred, average='weighted')\n",
    "print(\"f1:\", f1)"
   ]
  },
  {
   "cell_type": "code",
   "execution_count": 36,
   "id": "00d8aa96",
   "metadata": {},
   "outputs": [
    {
     "name": "stdout",
     "output_type": "stream",
     "text": [
      "[0 0 0 1 0]\n"
     ]
    }
   ],
   "source": [
    "print(y_pred[:5]) "
   ]
  },
  {
   "cell_type": "code",
   "execution_count": 37,
   "id": "f7fe5799",
   "metadata": {},
   "outputs": [
    {
     "name": "stdout",
     "output_type": "stream",
     "text": [
      "Confusion Matrix:\n"
     ]
    },
    {
     "data": {
      "text/html": [
       "<div>\n",
       "<style scoped>\n",
       "    .dataframe tbody tr th:only-of-type {\n",
       "        vertical-align: middle;\n",
       "    }\n",
       "\n",
       "    .dataframe tbody tr th {\n",
       "        vertical-align: top;\n",
       "    }\n",
       "\n",
       "    .dataframe thead th {\n",
       "        text-align: right;\n",
       "    }\n",
       "</style>\n",
       "<table border=\"1\" class=\"dataframe\">\n",
       "  <thead>\n",
       "    <tr style=\"text-align: right;\">\n",
       "      <th></th>\n",
       "      <th>Predicted False</th>\n",
       "      <th>Predicted True</th>\n",
       "    </tr>\n",
       "  </thead>\n",
       "  <tbody>\n",
       "    <tr>\n",
       "      <th>Actual False</th>\n",
       "      <td>108</td>\n",
       "      <td>10</td>\n",
       "    </tr>\n",
       "    <tr>\n",
       "      <th>Actual True</th>\n",
       "      <td>17</td>\n",
       "      <td>44</td>\n",
       "    </tr>\n",
       "  </tbody>\n",
       "</table>\n",
       "</div>"
      ],
      "text/plain": [
       "              Predicted False  Predicted True\n",
       "Actual False              108              10\n",
       "Actual True                17              44"
      ]
     },
     "metadata": {},
     "output_type": "display_data"
    }
   ],
   "source": [
    "cm = (confusion_matrix(y_test, y_pred))\n",
    "cmdf=pd.DataFrame(cm)\n",
    "print(\"Confusion Matrix:\")\n",
    "\n",
    "cmdf.index = ['Actual False','Actual True']\n",
    "cmdf.columns = ['Predicted False','Predicted True']\n",
    "display(cmdf)"
   ]
  },
  {
   "cell_type": "code",
   "execution_count": 38,
   "id": "ebd90167",
   "metadata": {},
   "outputs": [
    {
     "name": "stdout",
     "output_type": "stream",
     "text": [
      "Precision: 0.8148148148148148\n",
      "Recall: 0.7213114754098361\n"
     ]
    }
   ],
   "source": [
    "precision = precision_score(y_test, y_pred)\n",
    "recall = recall_score(y_test, y_pred)\n",
    "\n",
    "print(\"Precision:\", precision)\n",
    "print(\"Recall:\", recall)"
   ]
  },
  {
   "cell_type": "code",
   "execution_count": 39,
   "id": "8aff442f",
   "metadata": {},
   "outputs": [
    {
     "name": "stdout",
     "output_type": "stream",
     "text": [
      "f1_score = 0.8053074173444678\n",
      "cross validation = 0.8089628681177977\n"
     ]
    }
   ],
   "source": [
    "f1_s,cv_mean = f1_score_tree_no_scaling('gini',3)\n",
    "print(f\"f1_score = {f1_s}\")\n",
    "print(f\"cross validation = {cv_mean}\")"
   ]
  },
  {
   "cell_type": "code",
   "execution_count": null,
   "id": "4e268a01",
   "metadata": {},
   "outputs": [],
   "source": []
  }
 ],
 "metadata": {
  "kernelspec": {
   "display_name": "Python 3 (ipykernel)",
   "language": "python",
   "name": "python3"
  },
  "language_info": {
   "codemirror_mode": {
    "name": "ipython",
    "version": 3
   },
   "file_extension": ".py",
   "mimetype": "text/x-python",
   "name": "python",
   "nbconvert_exporter": "python",
   "pygments_lexer": "ipython3",
   "version": "3.11.7"
  }
 },
 "nbformat": 4,
 "nbformat_minor": 5
}
